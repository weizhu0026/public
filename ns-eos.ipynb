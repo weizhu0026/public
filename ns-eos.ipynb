{
 "cells": [
  {
   "cell_type": "markdown",
   "metadata": {},
   "source": [
    "## Piecewise polytrope EoS of neutron stars ##\n",
    "[Read et al. (2009)](https://ui.adsabs.harvard.edu/abs/2009PhRvD..79l4032R/abstract) provided the parametrized neutron-star equation of states (EoS) that were widely used. In that work, the EoS is assumed to be polytropic in three separate density ranges with three different polytropic indices, and the boundary points in density are $\\rho_1=10^{14.7}\\,{\\rm g/cm^3}$ and $\\rho_2=10^{15.0}\\,{\\rm g/cm^3}$, respectively. See Figure 2 of that paper for an illustration. Within each density range, the pressure is given by\n",
    "\\begin{equation}\n",
    "P_i(\\rho) = K_i \\rho^{\\Gamma_i} ,\n",
    "\\end{equation}\n",
    "and the energy density is given by\n",
    "\\begin{equation}\n",
    "\\epsilon_i(\\rho) = (1+a_i) \\rho + \\frac{P_i}{\\Gamma_i-1} ,\n",
    "\\end{equation}\n",
    "with\n",
    "\\begin{equation}\n",
    "a_1 = 0;\\quad a_i = \\frac{\\epsilon(\\rho_{i-1})}{\\rho_{i-1}} - 1 - \\frac{K_i}{\\Gamma_i-1} \\rho_{i-1}^{\\Gamma_{i-1}} \\quad({\\rm for}~i=2, 3).\n",
    "\\end{equation}\n",
    "A neutron star EoS is then given by a set of parameters $(P_1, \\Gamma_1, \\Gamma_2, \\Gamma_3)$. Table III of Read et al. (2009) lists the values of these parameters for a large number of neutron star EoS's."
   ]
  },
  {
   "cell_type": "markdown",
   "metadata": {},
   "source": [
    "As an example, the code below plots the \"SlY\" EoS:"
   ]
  },
  {
   "cell_type": "code",
   "execution_count": 5,
   "metadata": {},
   "outputs": [
    {
     "data": {
      "image/png": "[encoded data removed]",
      "text/plain": [
       "<Figure size 720x360 with 2 Axes>"
      ]
     },
     "metadata": {
      "needs_background": "light"
     },
     "output_type": "display_data"
    }
   ],
   "source": [
    "import numpy as np\n",
    "import matplotlib.pyplot as plt\n",
    "from astropy import units as u\n",
    "\n",
    "def cgs_to_geo(rho,p=0):\n",
    "    ''' convert parameters in cgs units to geometric units (G=c=1). '''\n",
    "    rho_cgs=rho*(u.g/u.cm**3)\n",
    "    p_cgs=p*(u.dyn/u.cm**2)\n",
    "    c=3e10*u.cm/u.s\n",
    "    G=6.67e-8*u.cm**3/u.g/u.s**2\n",
    "    rho_geo=(rho_cgs*G/c**2).to(u.cm**(-2))\n",
    "    p_geo=(p_cgs*G/c**4).to(u.cm**(-2))\n",
    "    return rho_geo.value,p_geo.value\n",
    "\n",
    "def geo_to_cgs(rho,p,e):\n",
    "    ''' convert parameters in geometric units (G=c=1) to cgs units. '''\n",
    "    rho_geo=rho*(u.cm**(-2))\n",
    "    p_geo=p*(u.cm**(-2))\n",
    "    e_geo=e*(u.cm**(-2))\n",
    "    c=3e10*u.cm/u.s\n",
    "    G=6.67e-8*u.cm**3/u.g/u.s**2\n",
    "    rho_cgs=(rho_geo*c**2/G).to(u.g/u.cm**3)\n",
    "    p_cgs=(p_geo*c**4/G).to(u.dyn/u.cm**2)\n",
    "    e_cgs=(e_geo*c**4/G).to(u.erg/u.cm**3)\n",
    "    return rho_cgs.value,p_cgs.value,e_cgs.value\n",
    "\n",
    "def get_EoS_profile(rho_cgs, P_1_cgs, Gamma_1, Gamma_2, Gamma_3):\n",
    "    ''' numerically evaluate the NS EoS at the given set of density values for a given EoS that is parameterized by (P_1, Gamma_1, Gamma_2, Gamma_3). '''\n",
    "    rho_geo, P_1 = cgs_to_geo(rho_cgs, P_1_cgs)\n",
    "    ## input unit: geometric unit\n",
    "    p=np.zeros_like(rho_geo)\n",
    "    e=np.zeros_like(rho_geo)\n",
    "    RHO1,_=cgs_to_geo(10**14.7);RHO2,_=cgs_to_geo(10**15)\n",
    "    ## first region\n",
    "    cond1=rho_geo<=RHO1\n",
    "    K1=P_1/(RHO1**Gamma_1)\n",
    "    A_1=0\n",
    "    P_1=P_1;p[cond1]=K1*rho_geo[cond1]**Gamma_1\n",
    "    E_1=RHO1*(1+A_1)+P_1/(Gamma_1-1);e[cond1]=(1+A_1)*rho_geo[cond1]+p[cond1]/(Gamma_1-1)\n",
    "    ## second region\n",
    "    cond2=(rho_geo>RHO1)&(rho_geo<=RHO2)\n",
    "    K2=P_1/(RHO1**Gamma_2)\n",
    "    P_2=K2*RHO2**Gamma_2;p[cond2]=K2*rho_geo[cond2]**Gamma_2\n",
    "    A_2=E_1/RHO1-1-K2/(Gamma_2-1)*RHO1**(Gamma_2-1)\n",
    "    E_2=RHO2*(1+A_2)+P_2/(Gamma_2-1);e[cond2]=(1+A_2)*rho_geo[cond2]+p[cond2]/(Gamma_2-1)\n",
    "    ## third region\n",
    "    cond3=rho_geo>RHO2\n",
    "    K3=P_2/(RHO2**Gamma_3)\n",
    "    P_3=K3*rho_geo[cond3]**Gamma_3;p[cond3]=K3*rho_geo[cond3]**Gamma_3\n",
    "    A_3=E_2/RHO2-1-K3/(Gamma_3-1)*RHO2**(Gamma_3-1)\n",
    "    E_3=rho_geo[cond3]*(1+A_3)+P_3/(Gamma_3-1);e[cond3]=(1+A_3)*rho_geo[cond3]+p[cond3]/(Gamma_3-1)\n",
    "    ## unit conversion\n",
    "    rho_cgs, p_cgs, e_cgs = geo_to_cgs(rho_geo, p, e)\n",
    "    return rho_cgs, p_cgs, e_cgs\n",
    "\n",
    "## Below are the parameters of the 'SLy' EoS, given by Table III of Read et al. (2009) ##\n",
    "P_1_cgs, Gamma_1, Gamma_2, Gamma_3 = 10**34.384,3.005,2.988,2.851\n",
    "\n",
    "rho_cgs = np.logspace(14, 15.4, 100)\n",
    "rho_cgs, p_cgs, e_cgs = get_EoS_profile(rho_cgs, P_1_cgs, Gamma_1, Gamma_2, Gamma_3)\n",
    "\n",
    "fig, axs = plt.subplots(1, 2, figsize=(10, 5))\n",
    "axs[0].plot(rho_cgs, p_cgs)\n",
    "axs[1].plot(rho_cgs, e_cgs)\n",
    "\n",
    "for ax in axs:\n",
    "    ax.axvline(10**14.7, ls='--', color='k')\n",
    "    ax.axvline(10**15.0, ls='--', color='k')\n",
    "\n",
    "axs[0].set_xscale('log')\n",
    "axs[0].set_yscale('log')\n",
    "axs[0].set_xlabel(r'$\\rho$ (g/cm$^3$)')\n",
    "axs[0].set_ylabel(r'$P$ (dyne/cm$^2$)')\n",
    "\n",
    "axs[1].set_xscale('log')\n",
    "axs[1].set_yscale('log')\n",
    "axs[1].set_xlabel(r'$\\rho$ (g/cm$^3$)')\n",
    "axs[1].set_ylabel(r'$\\epsilon$ (erg/cm$^3$)')\n",
    "plt.show()"
   ]
  },
  {
   "cell_type": "markdown",
   "metadata": {},
   "source": [
    "The above EoS can then be used as input for the TOV solver, [PYTOV](https://github.com/dlwhittenbury/PYTOV), to solve for the neutron star mass--radius relation.\n",
    "\n",
    "Two things to be aware of:\n",
    "1. PYTOV requires two EOS input files, one for low-density range and one for high-density range. Only the high-density EoS is uncertain and needs to be replaced.\n",
    "2. PYTOV input files require special units: density in [fm^-3], pressure in [MeV fm^-3], and energy density in [MeV fm^-3]."
   ]
  },
  {
   "cell_type": "code",
   "execution_count": null,
   "metadata": {},
   "outputs": [],
   "source": []
  }
 ],
 "metadata": {
  "kernelspec": {
   "display_name": "base",
   "language": "python",
   "name": "python3"
  },
  "language_info": {
   "codemirror_mode": {
    "name": "ipython",
    "version": 3
   },
   "file_extension": ".py",
   "mimetype": "text/x-python",
   "name": "python",
   "nbconvert_exporter": "python",
   "pygments_lexer": "ipython3",
   "version": "3.9.7"
  }
 },
 "nbformat": 4,
 "nbformat_minor": 2
}
