{
 "cells": [
  {
   "cell_type": "markdown",
   "metadata": {},
   "source": [
    "\n",
    "The WD mass density is given by (Eq. 2.3.14 of ST83)\n",
    "$$\n",
    "\\rho = \\rho_0 x^3\n",
    "$$\n",
    "with\n",
    "$$\n",
    "x \\equiv \\frac{p_{\\rm F}}{m_ec},\\quad \\rho_0 = 1.9479 \\times 10^6 \\left(\\frac{\\mu_e}{2}\\right) {\\rm g/cm^3} .\n",
    "$$\n",
    "The electron degenerate pressure is given by (Eq. 2.3.5 of ST83)\n",
    "$$\n",
    "P_e = P_0 \\phi(x)\n",
    "$$\n",
    "with\n",
    "$$ P_0 = 1.4218 \\times 10^{25}~{\\rm dyne/cm^2}, \\quad \\phi(x) = \\frac{1}{8\\pi^2} \\left\\{ x \\sqrt{1+x^2} \\left(\\frac{2}{3}x^2-1\\right) + \\ln\\left[ x + \\sqrt{1+x^2} \\right] \\right\\} . $$\n",
    "We further reparameterize the radius $r$ as\n",
    "$$ r = r_0 \\xi .$$\n",
    "Then the Poisson equation (Eq. 3.3.1 of ST83) becomes\n",
    "\\begin{equation}\n",
    "\\frac{1}{\\xi^2} \\frac{d}{d\\xi} \\left( \\frac{\\xi^2 \\phi^\\prime}{x^3} \\frac{dx}{d\\xi} \\right) = -x^3 ,\n",
    "\\end{equation}\n",
    "with\n",
    "$$ r_0 = \\sqrt{\\frac{P_0}{4\\pi G \\rho_0^2}} = 2.11 \\times 10^9 {\\rm cm}\\left (\\frac{\\mu_e}{2}\\right)^{-1},\\quad \\phi^\\prime \\equiv \\frac{d\\phi}{dx} = \\frac{x^4}{3\\pi^2 \\sqrt{1+x^2}} .$$\n",
    "(Note the derivative of $\\phi(x)$ can be easily done with **mathematica**.)\n",
    "The above equation is not a Lane--Emden equation because the EoS of ideal Fermi gas does not follow a polytropic form of EoS.\n",
    "\n",
    "In order to solve the above second-order differential equation (Eq. 1) numerically with [**scipy.integrate.odeint**](https://docs.scipy.org/doc/scipy/reference/generated/scipy.integrate.odeint.html), we rewrite the original equation into a group of two first-order differential equations by introducing a new variable $y$\n",
    "$$ \\frac{dx}{d\\xi} = \\frac{3\\pi^2 y \\sqrt{1+x^2}}{\\xi^2 x},\\quad \\frac{dy}{d\\xi} = -\\xi^2 x^3 .$$\n",
    "(Matlab also has ODE solvers that are easy to use: [ODE Solver in Matlab](https://www.mathworks.com/help/matlab/math/choose-an-ode-solver.html))\n",
    "\n",
    "To avoid singularities at $x=0$ (which is reached at the surface of the WD), we further introduce $z\\equiv x^2$ and rewritten the above equations\n",
    "$$ \\frac{dz}{d\\xi} = \\frac{6\\pi^2 y \\sqrt{1+z}}{\\xi^2},\\quad \\frac{dy}{d\\xi} = -\\xi^2 z^{3/2} .$$\n",
    "The initial conditions are\n",
    "$$ x(\\xi=0)=\\left(\\frac{\\rho_{\\rm c}}{\\rho_0}\\right)^{1/3}, \\quad \\left.\\frac{dx}{d\\xi}\\right|_{\\xi=0}=0 $$\n",
    "Thus\n",
    "$$ z(\\xi=0)=\\left(\\frac{\\rho_{\\rm c}}{\\rho_0}\\right)^{2/3}, \\quad y(\\xi=0)=0.$$\n",
    "The derivative $dz/d\\xi$ reaches another singularity at $\\xi=0$. This can be avoided by making use of the above initial conditions\n",
    "$$ \\left. \\frac{dz}{d\\xi} \\right|_{\\xi\\rightarrow 0} = -2 \\pi^2 \\sqrt{1+z} z^{3/2} \\xi $$\n",
    "\n",
    "The following piece of python code solves the above differential equations."
   ]
  },
  {
   "cell_type": "code",
   "execution_count": 1,
   "metadata": {},
   "outputs": [
    {
     "data": {
      "text/plain": [
       "Text(0, 0.5, '$100|y|$ or $z$')"
      ]
     },
     "execution_count": 1,
     "metadata": {},
     "output_type": "execute_result"
    },
    {
     "data": {
      "image/png": "[encoded data removed]",
      "text/plain": [
       "<Figure size 432x288 with 1 Axes>"
      ]
     },
     "metadata": {
      "needs_background": "light"
     },
     "output_type": "display_data"
    }
   ],
   "source": [
    "import numpy as np\n",
    "from scipy.integrate import odeint\n",
    "import matplotlib.pyplot as plt\n",
    "\n",
    "def derivatives(f, t, epsilon=1e-6):\n",
    "    ''' f=(y, z) is a vector to be solved; t is xi in the above equations. '''\n",
    "    y, z = f\n",
    "\n",
    "    if z<0: # density becomes negative-->unphysical, meaning the outer boundary has reached\n",
    "        dydt = 0\n",
    "        dzdt = 6*np.pi**2*y/t**2\n",
    "        return dydt, dzdt\n",
    "\n",
    "    dydt = -t**2 * z**1.5\n",
    "    if t < epsilon: # to avoid singularity at t=0\n",
    "        dzdt = -2*np.pi**2 * np.sqrt(1+z) * z**1.5 * t\n",
    "    else:\n",
    "        dzdt = 6*np.pi**2 * y * np.sqrt(1+z)/t**2\n",
    "    return dydt, dzdt\n",
    "\n",
    "xc = 0.8472 # dimensionless mass density at the center of WD\n",
    "f0 = [0, xc**2] # initial condition for the 1st-order differential equations\n",
    "t_array = np.linspace(0, 1, 100)\n",
    "f_array = odeint(derivatives, f0, t_array)\n",
    "\n",
    "y_array = f_array[:, 0]\n",
    "z_array = f_array[:, 1]\n",
    "\n",
    "plt.plot(t_array, np.abs(y_array)*100, label=r'$100|y(\\xi)|$')\n",
    "plt.plot(t_array, z_array, label=r'$z(\\xi)$')\n",
    "plt.axhline(0, color='k')\n",
    "plt.legend(loc=0)\n",
    "plt.xlabel(r'$\\xi$')\n",
    "plt.ylabel(r'$100|y|$ or $z$')"
   ]
  },
  {
   "cell_type": "markdown",
   "metadata": {},
   "source": [
    "The WD surface is reached when $x=0$ (thus $z=0$). The corresponding values of $\\xi$ and $y$ are denoted as $\\xi_1$ and $y_1$, respectively.\n",
    "\n",
    "The WD radius is given by\n",
    "$$ R = r_0 \\xi_1 $$\n",
    "The WD total mass is given by\n",
    "$$ M = \\int_0^R 4\\pi r^2 \\rho dr = 4\\pi \\rho_0 r_0^3 \\int_0^{\\xi_1} \\xi^2 x^3 d\\xi = 4\\pi \\rho_0 r_0^3 |y_1| $$\n",
    "The evaluation in the above equation has made use of the properties of the differential equations.\n",
    "\n",
    "Additionally, the WD central density is\n",
    "$$ \\rho_c = \\rho_0 x_0^3 $$"
   ]
  }
 ],
 "metadata": {
  "kernelspec": {
   "display_name": "Python 3.9.7 ('base')",
   "language": "python",
   "name": "python3"
  },
  "language_info": {
   "codemirror_mode": {
    "name": "ipython",
    "version": 3
   },
   "file_extension": ".py",
   "mimetype": "text/x-python",
   "name": "python",
   "nbconvert_exporter": "python",
   "pygments_lexer": "ipython3",
   "version": "3.9.7"
  },
  "orig_nbformat": 4,
  "vscode": {
   "interpreter": {
    "hash": "90f5fcc6837d1089197dab3134e85fc17e19044746d71d812f49216f3ec88b1e"
   }
  }
 },
 "nbformat": 4,
 "nbformat_minor": 2
}
